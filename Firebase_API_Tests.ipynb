{
  "nbformat": 4,
  "nbformat_minor": 0,
  "metadata": {
    "colab": {
      "provenance": [],
      "authorship_tag": "ABX9TyNFzFD2s6OxuxY75Nx7lHit",
      "include_colab_link": true
    },
    "kernelspec": {
      "name": "python3",
      "display_name": "Python 3"
    },
    "language_info": {
      "name": "python"
    }
  },
  "cells": [
    {
      "cell_type": "markdown",
      "metadata": {
        "id": "view-in-github",
        "colab_type": "text"
      },
      "source": [
        "<a href=\"https://colab.research.google.com/github/caasalazarsa/ConstyArqdeSoftware/blob/main/Firebase_API_Tests.ipynb\" target=\"_parent\"><img src=\"https://colab.research.google.com/assets/colab-badge.svg\" alt=\"Open In Colab\"/></a>"
      ]
    },
    {
      "cell_type": "code",
      "execution_count": 3,
      "metadata": {
        "colab": {
          "base_uri": "https://localhost:8080/"
        },
        "id": "yKBCHZxtq4Nj",
        "outputId": "ace2636a-a2a2-499e-940a-550019a027a9"
      },
      "outputs": [
        {
          "output_type": "stream",
          "name": "stdout",
          "text": [
            "enviado\n"
          ]
        }
      ],
      "source": [
        "import requests\n",
        "\n",
        "\n",
        "url = 'https://identitytoolkit.googleapis.com/v1/accounts:signUp?key=[API_KEY]'\n",
        "myobj = {\"email\":\"carlos_34600@hotmail.com\",\"password\":\"123456\",\"returnSecureToken\":True}\n",
        "\n",
        "x = requests.post(url, json = myobj)\n",
        "\n",
        "if x.status_code == 200:\n",
        "  print(\"registrado\")\n",
        "\n",
        "url2 = 'https://identitytoolkit.googleapis.com/v1/accounts:sendOobCode?key=[API_KEY]'\n",
        "myobj2 = {\"requestType\":\"PASSWORD_RESET\",\"email\":\"carlos_34600@hotmail.com\"}\n",
        "\n",
        "x2 = requests.post(url2, json = myobj2)\n",
        "\n",
        "if x2.status_code == 200:\n",
        "  print(\"enviado\")\n",
        "\n"
      ]
    }
  ]
}