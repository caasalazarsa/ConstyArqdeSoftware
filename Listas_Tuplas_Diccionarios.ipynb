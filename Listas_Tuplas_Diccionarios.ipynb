{
  "nbformat": 4,
  "nbformat_minor": 0,
  "metadata": {
    "colab": {
      "provenance": [],
      "authorship_tag": "ABX9TyOGqG0ekZxEOk2k3uBCmI9T",
      "include_colab_link": true
    },
    "kernelspec": {
      "name": "python3",
      "display_name": "Python 3"
    },
    "language_info": {
      "name": "python"
    }
  },
  "cells": [
    {
      "cell_type": "markdown",
      "metadata": {
        "id": "view-in-github",
        "colab_type": "text"
      },
      "source": [
        "<a href=\"https://colab.research.google.com/github/caasalazarsa/ConstyArqdeSoftware/blob/main/Listas_Tuplas_Diccionarios.ipynb\" target=\"_parent\"><img src=\"https://colab.research.google.com/assets/colab-badge.svg\" alt=\"Open In Colab\"/></a>"
      ]
    },
    {
      "cell_type": "markdown",
      "source": [
        "# Listas, Tuplas y Diccionarios\n",
        "\n",
        "Algunas de las colecciones más utilizadas en programación son las Listas, las tuplas y los diccionarios, a continaución se enlistan sus principales características:\n",
        "\n",
        "\n",
        "\n",
        "*   Listas: Son colecciones de elementos con un orden establecido, pueden contener cualquier tipo de dato y son mutables, esto último significa que se pueden modificar mediante instrucciones en el código. Se construyen por medio de los corchetes \\[ \\] y los elementos se separan por comas, se puede tener igualmente una lista de listas.\n",
        "*   Tuplas: Son bastante similares a las listas, la diferencia principal es que no son mutables. Las tuplas se construyen por medio de parentesis \\( \\)\n",
        "*   Diccionarios: Los diccionarios se diferencian de las listas y las tuplas ya que no cuentan con un orden preestablecido, también para almacenar el dato es necesario un componente de llave con el cual se sabe la posición del dato. Los diccionarios se construyen mediante corchetes \\{ \\}\n",
        "\n",
        "\n"
      ],
      "metadata": {
        "id": "OCNQ4GAFVu-h"
      }
    },
    {
      "cell_type": "code",
      "source": [
        "#Ejemplo de una lista\n",
        "\n",
        "lista1=[1,2,3,4,5]\n",
        "print(lista1)\n",
        "print(type(lista1))\n",
        "lista1[2]=5\n",
        "print(lista1)\n",
        "print(lista1[1])\n",
        "\n",
        "print(lista1[-1])\n",
        "print(lista1[3:5])\n",
        "\n",
        "#Ejemplo de una tupla\n",
        "\n",
        "tupla1=(1,2,3)\n",
        "\n",
        "try: \n",
        "  tupla1[1]=10\n",
        "  print(tupla1)\n",
        "\n",
        "except:\n",
        "  print(\"no se puede modificar la tupla\")\n",
        "\n",
        "print(tupla1)\n",
        "print(tupla1[2])\n",
        "\n",
        "#Ejemplo de un diccionario\n",
        "\n",
        "dic1={}\n",
        "\n",
        "dic1[\"llave1\"]=\"dato1\"\n",
        "dic1[\"llave2\"]=\"dato2\"\n",
        "\n",
        "print(dic1)\n",
        "print(dic1[\"llave1\"])"
      ],
      "metadata": {
        "colab": {
          "base_uri": "https://localhost:8080/"
        },
        "id": "eF0Nuek4YfWm",
        "outputId": "a9796723-5435-407e-a5c2-bf10d44538ef"
      },
      "execution_count": 17,
      "outputs": [
        {
          "output_type": "stream",
          "name": "stdout",
          "text": [
            "[1, 2, 3, 4, 5]\n",
            "<class 'list'>\n",
            "[1, 2, 5, 4, 5]\n",
            "2\n",
            "5\n",
            "[4, 5]\n",
            "no se puede modificar la tupla\n",
            "(1, 2, 3)\n",
            "3\n",
            "{'llave1': 'dato1', 'llave2': 'dato2'}\n",
            "dato1\n"
          ]
        }
      ]
    },
    {
      "cell_type": "markdown",
      "source": [
        "# Funciones preconstruidas para listas:\n",
        "\n",
        "* len(l) : Devuelve el número de elementos de la lista l.\n",
        "* min(l) : Devuelve el mínimo elemento de la lista l siempre que los datos sean comparables.\n",
        "* max(l) : Devuelve el máximo elemento de la lista l siempre que los datos sean comparables.\n",
        "* sum(l) : Devuelve la suma de los elementos de la lista l, siempre que los datos se puedan sumar.\n",
        "* dato in l : Devuelve True si el dato dato pertenece a la lista l y False en caso contrario.\n",
        "* l.index(dato) : Devuelve la posición que ocupa en la lista l el primer elemento con valor dato.\n",
        "* l.count(dato) : Devuelve el número de veces que el valor dato está contenido en la lista l.\n",
        "* all(l) : Devuelve True si todos los elementos de la lista l son True y False en caso contrario.\n",
        "* any(l) : Devuelve True si algún elemento de la lista l es True y False en caso contrario"
      ],
      "metadata": {
        "id": "T4pW5TjoYIpD"
      }
    },
    {
      "cell_type": "code",
      "source": [
        "help(list)"
      ],
      "metadata": {
        "colab": {
          "base_uri": "https://localhost:8080/"
        },
        "id": "Dgs_DXrlb88W",
        "outputId": "7eb8f0c2-0b0d-422d-ab08-6f00105ab3c2"
      },
      "execution_count": 19,
      "outputs": [
        {
          "output_type": "stream",
          "name": "stdout",
          "text": [
            "Help on class list in module builtins:\n",
            "\n",
            "class list(object)\n",
            " |  list(iterable=(), /)\n",
            " |  \n",
            " |  Built-in mutable sequence.\n",
            " |  \n",
            " |  If no argument is given, the constructor creates a new empty list.\n",
            " |  The argument must be an iterable if specified.\n",
            " |  \n",
            " |  Methods defined here:\n",
            " |  \n",
            " |  __add__(self, value, /)\n",
            " |      Return self+value.\n",
            " |  \n",
            " |  __contains__(self, key, /)\n",
            " |      Return key in self.\n",
            " |  \n",
            " |  __delitem__(self, key, /)\n",
            " |      Delete self[key].\n",
            " |  \n",
            " |  __eq__(self, value, /)\n",
            " |      Return self==value.\n",
            " |  \n",
            " |  __ge__(self, value, /)\n",
            " |      Return self>=value.\n",
            " |  \n",
            " |  __getattribute__(self, name, /)\n",
            " |      Return getattr(self, name).\n",
            " |  \n",
            " |  __getitem__(...)\n",
            " |      x.__getitem__(y) <==> x[y]\n",
            " |  \n",
            " |  __gt__(self, value, /)\n",
            " |      Return self>value.\n",
            " |  \n",
            " |  __iadd__(self, value, /)\n",
            " |      Implement self+=value.\n",
            " |  \n",
            " |  __imul__(self, value, /)\n",
            " |      Implement self*=value.\n",
            " |  \n",
            " |  __init__(self, /, *args, **kwargs)\n",
            " |      Initialize self.  See help(type(self)) for accurate signature.\n",
            " |  \n",
            " |  __iter__(self, /)\n",
            " |      Implement iter(self).\n",
            " |  \n",
            " |  __le__(self, value, /)\n",
            " |      Return self<=value.\n",
            " |  \n",
            " |  __len__(self, /)\n",
            " |      Return len(self).\n",
            " |  \n",
            " |  __lt__(self, value, /)\n",
            " |      Return self<value.\n",
            " |  \n",
            " |  __mul__(self, value, /)\n",
            " |      Return self*value.\n",
            " |  \n",
            " |  __ne__(self, value, /)\n",
            " |      Return self!=value.\n",
            " |  \n",
            " |  __repr__(self, /)\n",
            " |      Return repr(self).\n",
            " |  \n",
            " |  __reversed__(self, /)\n",
            " |      Return a reverse iterator over the list.\n",
            " |  \n",
            " |  __rmul__(self, value, /)\n",
            " |      Return value*self.\n",
            " |  \n",
            " |  __setitem__(self, key, value, /)\n",
            " |      Set self[key] to value.\n",
            " |  \n",
            " |  __sizeof__(self, /)\n",
            " |      Return the size of the list in memory, in bytes.\n",
            " |  \n",
            " |  append(self, object, /)\n",
            " |      Append object to the end of the list.\n",
            " |  \n",
            " |  clear(self, /)\n",
            " |      Remove all items from list.\n",
            " |  \n",
            " |  copy(self, /)\n",
            " |      Return a shallow copy of the list.\n",
            " |  \n",
            " |  count(self, value, /)\n",
            " |      Return number of occurrences of value.\n",
            " |  \n",
            " |  extend(self, iterable, /)\n",
            " |      Extend list by appending elements from the iterable.\n",
            " |  \n",
            " |  index(self, value, start=0, stop=9223372036854775807, /)\n",
            " |      Return first index of value.\n",
            " |      \n",
            " |      Raises ValueError if the value is not present.\n",
            " |  \n",
            " |  insert(self, index, object, /)\n",
            " |      Insert object before index.\n",
            " |  \n",
            " |  pop(self, index=-1, /)\n",
            " |      Remove and return item at index (default last).\n",
            " |      \n",
            " |      Raises IndexError if list is empty or index is out of range.\n",
            " |  \n",
            " |  remove(self, value, /)\n",
            " |      Remove first occurrence of value.\n",
            " |      \n",
            " |      Raises ValueError if the value is not present.\n",
            " |  \n",
            " |  reverse(self, /)\n",
            " |      Reverse *IN PLACE*.\n",
            " |  \n",
            " |  sort(self, /, *, key=None, reverse=False)\n",
            " |      Stable sort *IN PLACE*.\n",
            " |  \n",
            " |  ----------------------------------------------------------------------\n",
            " |  Static methods defined here:\n",
            " |  \n",
            " |  __new__(*args, **kwargs) from builtins.type\n",
            " |      Create and return a new object.  See help(type) for accurate signature.\n",
            " |  \n",
            " |  ----------------------------------------------------------------------\n",
            " |  Data and other attributes defined here:\n",
            " |  \n",
            " |  __hash__ = None\n",
            "\n"
          ]
        }
      ]
    },
    {
      "cell_type": "code",
      "execution_count": 14,
      "metadata": {
        "colab": {
          "base_uri": "https://localhost:8080/"
        },
        "id": "VDJwH7QEVseX",
        "outputId": "39c1b210-1398-46f8-a1c8-b8a9da47118c"
      },
      "outputs": [
        {
          "output_type": "stream",
          "name": "stdout",
          "text": [
            "4\n",
            "1\n",
            "3\n",
            "8\n",
            "False\n",
            "3\n",
            "0\n"
          ]
        }
      ],
      "source": [
        "a = [1, 2, 2, 3]\n",
        "\n",
        "print(len(a))\n",
        "print(min(a))\n",
        "print(max(a))\n",
        "print(sum(a))\n",
        "print(4 in a)\n",
        "try:\n",
        "  print(a.index(3))\n",
        "except ValueError:\n",
        "  print(\"número no disponible en la lista\")\n",
        "print(a.count(5))\n",
        "\n",
        "\n"
      ]
    },
    {
      "cell_type": "markdown",
      "source": [
        "# Funciones para modificar listas \n",
        "\n",
        "* l1 + l2 : Crea una nueva lista concatenan los elementos de la listas l1 y l2.\n",
        "* l.append(dato) : Añade dato al final de la lista l.\n",
        "* l.extend(sequencia) : Añade los datos de sequencia al final de la lista l.\n",
        "* l.insert(índice, dato) : Inserta dato en la posición índice de la lista l y desplaza los elementos una posición a partir de la posición índice.\n",
        "* l.remove(dato) : Elimina el primer elemento con valor dato en la lista l y desplaza los que están por detrás de él una posición hacia delante.\n",
        "* l.pop([índice]) : Devuelve el dato en la posición índice y lo elimina de la lista l, desplazando los elementos por detrás de él una posición hacia delante.\n",
        "* l.sort() : Ordena los elementos de la lista l de acuerdo al orden predefinido, siempre que los elementos sean comparables.\n",
        "* l.reverse() : invierte el orden de los elementos de la lista l."
      ],
      "metadata": {
        "id": "pgghbSEFbLwv"
      }
    },
    {
      "cell_type": "code",
      "source": [
        "a = [1, 3]\n",
        "b = [2 , 4, 6]\n",
        "a.append(5)\n",
        "print(a)\n",
        "a.remove(3)\n",
        "print(a)\n",
        "a.insert(1, 3)\n",
        "print(a)\n",
        "[1, 3, 5]\n",
        "print(b.pop())\n",
        "print(b)\n",
        "c = a + b\n",
        "print(c)\n",
        "[1, 3, 5, 2, 4]\n",
        "c.sort()\n",
        "print(c)\n",
        "[1, 2, 3, 4, 5]\n",
        "c.reverse()\n",
        "print(c)\n",
        "[5, 4, 3, 2, 1]"
      ],
      "metadata": {
        "colab": {
          "base_uri": "https://localhost:8080/"
        },
        "id": "SF1mvmBIbdFO",
        "outputId": "a85235a6-4669-46c8-b293-7e593bca7951"
      },
      "execution_count": 18,
      "outputs": [
        {
          "output_type": "stream",
          "name": "stdout",
          "text": [
            "[1, 3, 5]\n",
            "[1, 5]\n",
            "[1, 3, 5]\n",
            "6\n",
            "[2, 4]\n",
            "[1, 3, 5, 2, 4]\n",
            "[1, 2, 3, 4, 5]\n",
            "[5, 4, 3, 2, 1]\n"
          ]
        },
        {
          "output_type": "execute_result",
          "data": {
            "text/plain": [
              "[5, 4, 3, 2, 1]"
            ]
          },
          "metadata": {},
          "execution_count": 18
        }
      ]
    },
    {
      "cell_type": "markdown",
      "source": [
        "# Copia de listas\n",
        "\n",
        "* Por referencia: Referencia a la misma posición de memoria de la lista original por lo que cualquier cambio que se haga en la copia, se evidencia en la lista original\n",
        "* Por valor: Crea una copia de la lista y se le asigna una posición de memoria diferente."
      ],
      "metadata": {
        "id": "5ZIwwUJabL3u"
      }
    },
    {
      "cell_type": "code",
      "source": [
        "a = [1, 2, 3]\n",
        "# copia por referencia\n",
        "b = a\n",
        "print(b)\n",
        "b.remove(2)\n",
        "print(b)\n",
        "print(a)\n",
        "\n",
        "\n",
        "\n",
        "a = [1, 2, 3]\n",
        "# copia por valor\n",
        "b = list(a)\n",
        "print(b)\n",
        "b.remove(2)\n",
        "print(b)\n",
        "print(a)"
      ],
      "metadata": {
        "colab": {
          "base_uri": "https://localhost:8080/"
        },
        "id": "wfObjbE3bdKN",
        "outputId": "a88b90d2-e873-40c9-c5dd-081588996ba5"
      },
      "execution_count": 20,
      "outputs": [
        {
          "output_type": "stream",
          "name": "stdout",
          "text": [
            "[1, 2, 3]\n",
            "[1, 3]\n",
            "[1, 3]\n",
            "[1, 2, 3]\n",
            "[1, 3]\n",
            "[1, 2, 3]\n"
          ]
        }
      ]
    },
    {
      "cell_type": "markdown",
      "source": [
        "# Funciones disponibles en tuplas\n",
        "\n",
        "Estas funciones funcionan igual que en el caso de las listas, sin embargo como se puede ver las operaciones que se pueden realizar con las tuplas son menores.\n",
        "\n",
        "* len(t)\n",
        "* t.index(value)\n",
        "* value in t\n",
        "\n"
      ],
      "metadata": {
        "id": "nax-DxSvdQ9G"
      }
    },
    {
      "cell_type": "code",
      "source": [
        "a = (1, 2, 3)\n",
        "print(a[1])\n",
        "print(len(a))\n",
        "\n",
        "print(a.index(3))\n",
        "\n",
        "0 in a\n",
        "\n",
        "b = ((1, 2, 3), (4, 5, 6))\n",
        "print(b[1])\n",
        "print(b[1][2])"
      ],
      "metadata": {
        "colab": {
          "base_uri": "https://localhost:8080/"
        },
        "id": "d_Xs3MU4dsIx",
        "outputId": "7fdd30ee-169b-4e62-d746-4e74b0c0690c"
      },
      "execution_count": 21,
      "outputs": [
        {
          "output_type": "stream",
          "name": "stdout",
          "text": [
            "2\n",
            "3\n",
            "2\n",
            "(4, 5, 6)\n",
            "6\n"
          ]
        }
      ]
    },
    {
      "cell_type": "markdown",
      "source": [
        "\n",
        "\n",
        "1.   Construir un programa que solicite entradas de usuario por consola, el usuario ingresa la cantidad de materias que cursa, luego le solicita que ingrese el nombre de cada asignatura que cursa y luego imprime una lista con las materias.\n",
        "2.   Construir un programa que, usando la lista construida en el programa anterior le pregunte al usuario que nota espera sacar para cada materia en el primer corte.\n",
        "3. Construir un programa que, revisando la lista de notas de punto anterior le muestre dos listas con las materias aprobadas y las materias reprobadas\n",
        "4. Construir un programa que reciba una palabra o frase del usuario y verifique si lo que fue ingresado es un palindromo\n",
        "5. Construir un programa que reciba dos vectores ingresados por el usuario y le retorne el producto escalar\n",
        "6. Construir un programa que le solicite al usuario un conjunto de números, el programa recibirá números hasta que el usuario escriba la palabra \"fin\" en la consola, luego de eso el sistema le devolverá en consola la media y la desviación estandar de los datos (Para facilitar el trabajo puede buscar y usar librerías)\n",
        "7. Construir un programa al que se le ingresa el monto a pagar por el usuario, luego recibe la cantidad de dinero que ingresó el usuario y le entrega el cambio en las denominaciones colombianas más grandes que pueda.\n",
        "Ejemplo:\\\n",
        "Monto a pagar 16700\\\n",
        "Monto con el que se paga: 20000\\\n",
        "El cambio es:\\\n",
        "1 billete de 2000\\\n",
        "1 moneda de 1000\\\n",
        "1 moneda de 200\\\n",
        "1 moneda de 100\n",
        "\n",
        "\n"
      ],
      "metadata": {
        "id": "AjFHoL3ze6I4"
      }
    },
    {
      "cell_type": "code",
      "source": [],
      "metadata": {
        "id": "XFWynOBxeYSN"
      },
      "execution_count": null,
      "outputs": []
    }
  ]
}