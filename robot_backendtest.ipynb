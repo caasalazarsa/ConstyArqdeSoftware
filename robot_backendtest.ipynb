{
  "nbformat": 4,
  "nbformat_minor": 0,
  "metadata": {
    "colab": {
      "provenance": [],
      "authorship_tag": "ABX9TyMReszsjydq135eq4Cj2Bso",
      "include_colab_link": true
    },
    "kernelspec": {
      "name": "python3",
      "display_name": "Python 3"
    },
    "language_info": {
      "name": "python"
    }
  },
  "cells": [
    {
      "cell_type": "markdown",
      "metadata": {
        "id": "view-in-github",
        "colab_type": "text"
      },
      "source": [
        "<a href=\"https://colab.research.google.com/github/caasalazarsa/ConstyArqdeSoftware/blob/main/robot_backendtest.ipynb\" target=\"_parent\"><img src=\"https://colab.research.google.com/assets/colab-badge.svg\" alt=\"Open In Colab\"/></a>"
      ]
    },
    {
      "cell_type": "code",
      "execution_count": 1,
      "metadata": {
        "colab": {
          "base_uri": "https://localhost:8080/"
        },
        "id": "RL8JG3wHiV81",
        "outputId": "ea4f2b0d-57af-4a1a-bebc-87c3414c6c29"
      },
      "outputs": [
        {
          "output_type": "stream",
          "name": "stdout",
          "text": [
            "Looking in indexes: https://pypi.org/simple, https://us-python.pkg.dev/colab-wheels/public/simple/\n",
            "Collecting robotframework\n",
            "  Downloading robotframework-6.0-py3-none-any.whl (657 kB)\n",
            "\u001b[K     |████████████████████████████████| 657 kB 8.2 MB/s \n",
            "\u001b[?25hInstalling collected packages: robotframework\n",
            "Successfully installed robotframework-6.0\n"
          ]
        }
      ],
      "source": [
        "!pip install robotframework"
      ]
    },
    {
      "cell_type": "code",
      "source": [
        "!robot --version"
      ],
      "metadata": {
        "colab": {
          "base_uri": "https://localhost:8080/"
        },
        "id": "Iy3VYSjcjMDE",
        "outputId": "0362254a-d66a-4e05-f8f7-6cd346c8a6c7"
      },
      "execution_count": 2,
      "outputs": [
        {
          "output_type": "stream",
          "name": "stdout",
          "text": [
            "Robot Framework 6.0 (Python 3.7.15 on linux)\n"
          ]
        }
      ]
    },
    {
      "cell_type": "code",
      "source": [
        "!robot keyword_driven.robot"
      ],
      "metadata": {
        "colab": {
          "base_uri": "https://localhost:8080/"
        },
        "id": "apCNMR4djPkv",
        "outputId": "b13ce806-9630-466f-8ce3-210d21e445c7"
      },
      "execution_count": 4,
      "outputs": [
        {
          "output_type": "stream",
          "name": "stdout",
          "text": [
            "==============================================================================\n",
            "Keyword Driven :: Example test cases using the keyword-driven testing appro...\n",
            "==============================================================================\n",
            "Push button                                                           \u001b[32m.\u001b[0m\u001b[32m.\u001b[0m\r                                                                              \rPush button                                                           | \u001b[32mPASS\u001b[0m |\n",
            "------------------------------------------------------------------------------\n",
            "Push multiple buttons                                                 \u001b[32m.\u001b[0m\u001b[32m.\u001b[0m\u001b[32m.\u001b[0m\r                                                                              \rPush multiple buttons                                                 | \u001b[32mPASS\u001b[0m |\n",
            "------------------------------------------------------------------------------\n",
            "Simple calculation                                                    \u001b[32m.\u001b[0m\u001b[32m.\u001b[0m\u001b[32m.\u001b[0m\u001b[32m.\u001b[0m\u001b[32m.\u001b[0m\r                                                                              \rSimple calculation                                                    | \u001b[32mPASS\u001b[0m |\n",
            "------------------------------------------------------------------------------\n",
            "Longer calculation                                                    \u001b[32m.\u001b[0m\u001b[32m.\u001b[0m\r                                                                              \rLonger calculation                                                    | \u001b[32mPASS\u001b[0m |\n",
            "------------------------------------------------------------------------------\n",
            "Clear                                                                 \u001b[32m.\u001b[0m\u001b[32m.\u001b[0m\u001b[32m.\u001b[0m\r                                                                              \rClear                                                                 | \u001b[32mPASS\u001b[0m |\n",
            "------------------------------------------------------------------------------\n",
            "Keyword Driven :: Example test cases using the keyword-driven test... | \u001b[32mPASS\u001b[0m |\n",
            "5 tests, 5 passed, 0 failed\n",
            "==============================================================================\n",
            "Output:  /content/output.xml\n",
            "Log:     /content/log.html\n",
            "Report:  /content/report.html\n"
          ]
        }
      ]
    },
    {
      "cell_type": "code",
      "source": [
        "!robot data_driven.robot"
      ],
      "metadata": {
        "colab": {
          "base_uri": "https://localhost:8080/"
        },
        "id": "nct9jVJIjUpj",
        "outputId": "9a6e7157-5123-490b-b4f1-79642eb90930"
      },
      "execution_count": 5,
      "outputs": [
        {
          "output_type": "stream",
          "name": "stdout",
          "text": [
            "==============================================================================\n",
            "Data Driven :: Example test cases using the data-driven testing approach.     \n",
            "==============================================================================\n",
            "Addition                                                              \u001b[32m.\u001b[0m\u001b[32m.\u001b[0m\r                                                                              \rAddition                                                              | \u001b[32mPASS\u001b[0m |\n",
            "------------------------------------------------------------------------------\n",
            "Subtraction                                                           \u001b[32m.\u001b[0m\u001b[32m.\u001b[0m\r                                                                              \rSubtraction                                                           | \u001b[32mPASS\u001b[0m |\n",
            "------------------------------------------------------------------------------\n",
            "Multiplication                                                        \u001b[32m.\u001b[0m\u001b[32m.\u001b[0m\r                                                                              \rMultiplication                                                        | \u001b[32mPASS\u001b[0m |\n",
            "------------------------------------------------------------------------------\n",
            "Division                                                              \u001b[32m.\u001b[0m\u001b[32m.\u001b[0m\r                                                                              \rDivision                                                              | \u001b[32mPASS\u001b[0m |\n",
            "------------------------------------------------------------------------------\n",
            "Failing                                                               \u001b[31mF\u001b[0m\r                                                                              \rFailing                                                               | \u001b[31mFAIL\u001b[0m |\n",
            "2 != 3\n",
            "------------------------------------------------------------------------------\n",
            "Calculation error                                                     \u001b[32m.\u001b[0m\u001b[32m.\u001b[0m\u001b[32m.\u001b[0m\r                                                                              \rCalculation error                                                     | \u001b[32mPASS\u001b[0m |\n",
            "------------------------------------------------------------------------------\n",
            "Data Driven :: Example test cases using the data-driven testing ap... | \u001b[31mFAIL\u001b[0m |\n",
            "6 tests, 5 passed, 1 failed\n",
            "==============================================================================\n",
            "Output:  /content/output.xml\n",
            "Log:     /content/log.html\n",
            "Report:  /content/report.html\n"
          ]
        }
      ]
    },
    {
      "cell_type": "code",
      "source": [
        "!robot gherkin.robot"
      ],
      "metadata": {
        "colab": {
          "base_uri": "https://localhost:8080/"
        },
        "id": "UwhPedspjgN8",
        "outputId": "e41596b6-f0ce-4665-a642-494153ca8bc0"
      },
      "execution_count": 6,
      "outputs": [
        {
          "output_type": "stream",
          "name": "stdout",
          "text": [
            "==============================================================================\n",
            "Gherkin :: Example test case using the gherkin syntax.                        \n",
            "==============================================================================\n",
            "Addition                                                              \u001b[32m.\u001b[0m\u001b[32m.\u001b[0m\u001b[32m.\u001b[0m\u001b[32m.\u001b[0m\r                                                                              \rAddition                                                              | \u001b[32mPASS\u001b[0m |\n",
            "------------------------------------------------------------------------------\n",
            "Gherkin :: Example test case using the gherkin syntax.                | \u001b[32mPASS\u001b[0m |\n",
            "1 test, 1 passed, 0 failed\n",
            "==============================================================================\n",
            "Output:  /content/output.xml\n",
            "Log:     /content/log.html\n",
            "Report:  /content/report.html\n"
          ]
        }
      ]
    }
  ]
}